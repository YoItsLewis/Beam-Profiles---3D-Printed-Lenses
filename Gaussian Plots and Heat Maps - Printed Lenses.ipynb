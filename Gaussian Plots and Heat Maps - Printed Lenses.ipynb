{
 "cells": [
  {
   "cell_type": "markdown",
   "id": "a5d13005-3f5e-4857-8aab-116521fab5e3",
   "metadata": {},
   "source": [
    "# **Heat Maps and Gaussian Plots**"
   ]
  },
  {
   "cell_type": "markdown",
   "id": "147cc9b4-8a07-450c-88ab-c1d63441ecda",
   "metadata": {},
   "source": [
    "### Reference Paper: **Printing, Characterising, and Assessing Transparent 3D Printed Lenses for Optical Imaging**\n",
    "\n",
    "#### Author for correspondence: liam.rooney@strath.ac.uk"
   ]
  },
  {
   "cell_type": "markdown",
   "id": "240283ae-e050-413b-8ee4-5633f339b6db",
   "metadata": {},
   "source": [
    "=============================================================================\n",
    "## Import Relevant Libraries\n",
    "============================================================================="
   ]
  },
  {
   "cell_type": "code",
   "execution_count": null,
   "id": "b98836b9-b367-450a-8b78-38a6e882c3bf",
   "metadata": {},
   "outputs": [],
   "source": [
    "import numpy as np # Used for general calculations\n",
    "import matplotlib.pyplot as plt # Used for plotting\n",
    "from mpl_toolkits.axes_grid1 import make_axes_locatable # Used for plotting visuals\n",
    "import os # Used for path finding and saving data"
   ]
  },
  {
   "cell_type": "markdown",
   "id": "779be8fe-25d6-4d33-a950-e73df4b1e405",
   "metadata": {},
   "source": [
    "=============================================================================\n",
    "## Saving Plots\n",
    "============================================================================="
   ]
  },
  {
   "cell_type": "code",
   "execution_count": null,
   "id": "5df4bfd9-ee9c-49a9-b275-bca9ad6d8c43",
   "metadata": {},
   "outputs": [],
   "source": [
    "Subfolder = '/...' #Specify a created subfolder for plots to be saved into. Ensure back/forward slash is correctly used here and in the below defined 'Folder_path'\n",
    "\n",
    "Folder_path = r\"C:/Users/user/...\" #Copy Path\n",
    "\n",
    "save_path = Folder_path + Subfolder\n",
    "\n",
    "def saveplot():\n",
    "    plt.savefig(os.path.join(save_path, filename))"
   ]
  },
  {
   "cell_type": "markdown",
   "id": "6b1061e1-141a-4b4c-b819-c49950683d86",
   "metadata": {},
   "source": [
    "=============================================================================\n",
    "## Lens Data Values\n",
    "============================================================================="
   ]
  },
  {
   "cell_type": "code",
   "execution_count": null,
   "id": "8415bbeb-571b-4437-8f5f-45417c4d9ff2",
   "metadata": {},
   "outputs": [],
   "source": [
    "# Printed lenses\n",
    "\n",
    "# Printed 12.5\n",
    "lens_one_data_x = 182.2\n",
    "lens_one_data_y = 180.8\n",
    "\n",
    "# Printed 19.9\n",
    "lens_two_data_x = 67.2\n",
    "lens_two_data_y = 79.7\n",
    "\n",
    "# Printed 35.0\n",
    "lens_three_data_x = 113.8\n",
    "lens_three_data_y = 86.8"
   ]
  },
  {
   "cell_type": "markdown",
   "id": "832d4718-de5d-44cb-b9f6-c9c3a27cb69a",
   "metadata": {},
   "source": [
    "=============================================================================\n",
    "## Sorting Data for Plotting\n",
    "============================================================================="
   ]
  },
  {
   "cell_type": "markdown",
   "id": "9c9dd2d1-4cb1-4a2d-ade7-f570e75d07e9",
   "metadata": {},
   "source": [
    "Includes in order: \n",
    "- Step size for data \n",
    "- Linspace values for width of each beam profile centered around @ the zero point (-Lens Data Value/2 -> Lens Data Value/2)\n",
    "- Standard deviation\n",
    "- Pythagorean Theorem of Statistics (http://khsapstats.weebly.com/pythagorean-theorem-of-statistics.html#:~:text=Overview%3A,squares%20of%20their%20standard%20deviations) used to calculate the sum of the standard deviations found for the (x,y) axial profiles."
   ]
  },
  {
   "cell_type": "code",
   "execution_count": null,
   "id": "deb96c8f-c4b6-4724-8903-4e4725c8e70d",
   "metadata": {},
   "outputs": [],
   "source": [
    "step = 500 # Integer value step size for linspace function \n",
    "\n",
    "\n",
    "x_half_values1 = np.linspace(-lens_one_data_x/2, lens_one_data_x/2, step)\n",
    "y_half_values1 = np.linspace(-lens_one_data_y/2, lens_one_data_y/2, step)\n",
    "\n",
    "x_half_values2 = np.linspace(-lens_two_data_x/2, lens_two_data_x/2, step)\n",
    "y_half_values2 = np.linspace(-lens_two_data_y/2, lens_two_data_y/2, step)\n",
    "\n",
    "x_half_values3 = np.linspace(-lens_three_data_x/2, lens_three_data_x/2, step)\n",
    "y_half_values3 = np.linspace(-lens_three_data_y/2, lens_three_data_y/2, step)\n",
    "\n",
    "\n",
    "Std_data1x = np.std(x_half_values1)\n",
    "Std_data1y = np.std(y_half_values1)\n",
    "\n",
    "Std_data2x = np.std(x_half_values2)\n",
    "Std_data2y = np.std(y_half_values2)\n",
    "\n",
    "Std_data3x = np.std(x_half_values3)\n",
    "Std_data3y = np.std(y_half_values3)\n",
    "\n",
    "\n",
    "Std_average1 = np.sqrt(Std_data1x**2 + Std_data1y**2)\n",
    "Std_average2 = np.sqrt(Std_data2x**2 + Std_data2y**2)\n",
    "Std_average3 = np.sqrt(Std_data3x**2 + Std_data3y**2)"
   ]
  },
  {
   "cell_type": "markdown",
   "id": "a22a8e31-9e4e-4145-a43a-2967487cf8ed",
   "metadata": {
    "tags": []
   },
   "source": [
    "=============================================================================\n",
    "## 2D Heat Map Data Prep\n",
    "============================================================================="
   ]
  },
  {
   "cell_type": "markdown",
   "id": "4b61f0de-bf8d-49b2-a507-2ea4e6f4915c",
   "metadata": {},
   "source": [
    "Includes in order:\n",
    "- Linspace values (0-> Lens Data Value)\n",
    "- The Linspace datatype was then coverted to integer and the NumPy vectorize function was used to assist in plotting"
   ]
  },
  {
   "cell_type": "code",
   "execution_count": null,
   "id": "f2eee050-247d-4333-91dc-2294886ac953",
   "metadata": {},
   "outputs": [],
   "source": [
    "x_values1_zero = np.linspace(0, lens_one_data_x, step)\n",
    "y_values1_zero = np.linspace(0, lens_one_data_y, step)\n",
    "\n",
    "x_values2_zero = np.linspace(0, lens_two_data_x, step)\n",
    "y_values2_zero = np.linspace(0, lens_two_data_y, step)\n",
    "\n",
    "x_values3_zero = np.linspace(0, lens_three_data_x, step)\n",
    "y_values3_zero = np.linspace(0, lens_three_data_y, step)\n",
    "\n",
    "\n",
    "vector = np.vectorize(np.int_)\n",
    "\n",
    "x_values1_int = vector(x_values1_zero)\n",
    "y_values1_int = vector(y_values1_zero)\n",
    "\n",
    "x_values2_int = vector(x_values2_zero)\n",
    "y_values2_int = vector(y_values2_zero)\n",
    "\n",
    "x_values3_int = vector(x_values3_zero)\n",
    "y_values3_int = vector(y_values3_zero)"
   ]
  },
  {
   "cell_type": "markdown",
   "id": "efe375df-2d56-48db-a656-9ae06601c19e",
   "metadata": {},
   "source": [
    "=============================================================================\n",
    "## 2D Heat Map Plots\n",
    "============================================================================="
   ]
  },
  {
   "cell_type": "markdown",
   "id": "811d95d6-e54e-4069-aebc-0ff5c9e66779",
   "metadata": {},
   "source": [
    "Functions from matplotlib.pyplot and mpl_toolkits.axes_grid1 were used to aid the plotting of the three heat maps:\n",
    "\n",
    "- Firstly, a zero'd multi-dimensional array was created to later store the data which was run through the nested for loop, for values found in the x_values[i]_int and y_values[j]_int arrays...where i and j are the same integer 1,2 or 3.\n",
    "\n",
    "- This data was then taken and plotted using the imshow function and a colour bar was used to demonstate the profile's probability density.\n",
    "\n",
    "- The data was then saved using the saveplot function which is defined earlier in this script under the title '**Saving Plots**'."
   ]
  },
  {
   "cell_type": "code",
   "execution_count": null,
   "id": "30fc3d49-0e4d-4583-b094-6a66d0b62532",
   "metadata": {},
   "outputs": [],
   "source": [
    "colour = 'plasma'\n",
    "plt.rc('axes', labelsize=13) # fontsize of the x and y labels\n",
    "\n",
    "container1 = np.zeros((int(lens_one_data_x+1),int(lens_one_data_y+1)))\n",
    "for i in x_values1_int:\n",
    "    for j in y_values1_int:\n",
    "        Gaussian_data1 = 1/2*np.pi*Std_average1**2 * np.exp(-((i - int(lens_one_data_x)/2)**2 + (j - int(lens_one_data_y)/2)**2) / (2*Std_average1**2))\n",
    "        container1[i, j] = Gaussian_data1\n",
    "\n",
    "fig, ax = plt.subplots()\n",
    "divider = make_axes_locatable(ax)\n",
    "cax = divider.append_axes('right', size='5%', pad=0.05) # Placement and sizing for colour bar\n",
    "im = ax.imshow(container1, cmap= colour)\n",
    "cbar = fig.colorbar(im, cax=cax, orientation='vertical')\n",
    "cbar.set_label('Probability Density', rotation=270, labelpad=20)\n",
    "ax.set_xlabel('x-axis beam width (um)')\n",
    "ax.set_ylabel('y-axis beam height (um)')\n",
    "filename = 'Heat_map_print_12_5' # Filename used for naming the plot when saving it\n",
    "saveplot()\n",
    "plt.show()\n",
    "\n",
    "\n",
    "container2 = np.zeros((int(lens_two_data_x+1),int(lens_two_data_y+1)))\n",
    "for i in x_values2_int:\n",
    "    for j in y_values2_int:\n",
    "        Gaussian_data2 = 1/2*np.pi*Std_average2**2 * np.exp(-((i - int(lens_two_data_x)/2)**2 + (j - int(lens_two_data_y)/2)**2) / (2*Std_average2**2))\n",
    "        container2[i, j] = Gaussian_data2\n",
    "\n",
    "fig, ax = plt.subplots()\n",
    "divider = make_axes_locatable(ax)\n",
    "cax = divider.append_axes('right', size='5%', pad=0.05)\n",
    "im = ax.imshow(container2, cmap= colour)\n",
    "cbar = fig.colorbar(im, cax=cax, orientation='vertical')\n",
    "cbar.set_label('Probability Density', rotation=270, labelpad=20)\n",
    "ax.set_xlabel('x-axis beam width (um)')\n",
    "ax.set_ylabel('y-axis beam height (um)')\n",
    "filename = 'Heat_map_print_19_9'\n",
    "saveplot()\n",
    "plt.show()\n",
    "\n",
    "\n",
    "container3 = np.zeros((int(lens_three_data_x+1),int(lens_three_data_y+1)))\n",
    "for i in x_values3_int:\n",
    "    for j in y_values3_int:\n",
    "        Gaussian_data3 = 1/2*np.pi*Std_average3**2 * np.exp(-((i - int(lens_three_data_x)/2)**2 + (j - int(lens_three_data_y)/2)**2) / (2*Std_average3**2))\n",
    "        container3[i, j] = Gaussian_data3\n",
    "\n",
    "fig, ax = plt.subplots()\n",
    "divider = make_axes_locatable(ax)\n",
    "cax = divider.append_axes('right', size='5%', pad=0.05)\n",
    "im = ax.imshow(container3, cmap= colour)\n",
    "cbar = fig.colorbar(im, cax=cax, orientation='vertical')\n",
    "cbar.set_label('Probability Density', rotation=270, labelpad=20)\n",
    "ax.set_xlabel('x-axis beam width (um)')\n",
    "ax.set_ylabel('y-axis beam height (um)')\n",
    "filename = 'Heat_map_print_35_0'\n",
    "saveplot()\n",
    "plt.show()"
   ]
  },
  {
   "cell_type": "markdown",
   "id": "80541dff-8c5d-4a36-8db9-69fe3a614b12",
   "metadata": {
    "tags": []
   },
   "source": [
    "=============================================================================\n",
    "## 3D Gaussian Plot\n",
    "============================================================================="
   ]
  },
  {
   "cell_type": "markdown",
   "id": "bc6bdda4-a3b0-4618-b0e7-c681b2ed920d",
   "metadata": {},
   "source": [
    "Functions from matplotlib.pyplot and mpl_toolkits.axes_grid1 were used to aid the plotting of the three 3D Gaussian Plots:\n",
    "\n",
    "- Firstly, the plot was defined as a 3D projection, and ax.dist was used to scale the placement of the graph on the plot (this was to ensure that parameters such as label and tick sizes could be altered for better visualisation)\n",
    "\n",
    "- The NumPy meshgrid function was used to convert the NumPy arrays into coordinate matrices for the 3D plot. The plot_surface function was then used to create the 3D suface plot in the X,Y,Z axes.\n",
    "\n",
    "- Additionally, visuals on the plot were adjusted using the tick_params and various axis.labelpad functions, with the specified integer values as seen below in the script.\n",
    "\n",
    "- The data was then saved using the saveplot function which is defined earlier in this script under the title '**Saving Plots**'."
   ]
  },
  {
   "cell_type": "code",
   "execution_count": null,
   "id": "76e4fa1a-60c6-44bf-9a8a-a2c2840a4dd3",
   "metadata": {},
   "outputs": [],
   "source": [
    "plt.rc('axes', labelsize=19) # fontsize of the x, y and z labels\n",
    "\n",
    "fig = plt.figure(figsize=(10,10))\n",
    "ax = fig.add_subplot(111, projection='3d')\n",
    "ax.dist=12\n",
    "X, Y = np.meshgrid(np.arange(int(lens_one_data_y+1)),np.arange(int(lens_one_data_x+1)))\n",
    "ax.plot_surface(X, Y, container1, cmap= colour, edgecolors='black')\n",
    "ax.set_xlim(0, int(lens_one_data_y))\n",
    "ax.set_ylim(0, int(lens_one_data_x))\n",
    "ax.set_xlabel('x-axis beam width (um)')\n",
    "ax.set_ylabel('y-axis beam height (um)')\n",
    "ax.set_zlabel('Probability Density')\n",
    "ax.tick_params('both', labelsize=13)\n",
    "n = 17\n",
    "ax.yaxis.labelpad=n\n",
    "ax.xaxis.labelpad=n\n",
    "ax.zaxis.labelpad=n\n",
    "filename = '3D_Gaussian_print_12_5'\n",
    "saveplot()\n",
    "plt.show()\n",
    "\n",
    "\n",
    "fig = plt.figure(figsize=(10,10))\n",
    "ax = fig.add_subplot(111, projection='3d')\n",
    "ax.dist=12\n",
    "X, Y = np.meshgrid(np.arange(int(lens_two_data_y+1)),np.arange(int(lens_two_data_x+1)))\n",
    "ax.plot_surface(X, Y, container2, cmap= colour, edgecolors='black')\n",
    "ax.set_xlim(0, int(lens_two_data_y))\n",
    "ax.set_ylim(0, int(lens_two_data_x))\n",
    "ax.set_xlabel('x-axis beam width (um)')\n",
    "ax.set_ylabel('y-axis beam height (um)')\n",
    "ax.set_zlabel('Probability Density')\n",
    "ax.tick_params('both', labelsize=13)\n",
    "ax.yaxis.labelpad=n\n",
    "ax.xaxis.labelpad=n\n",
    "ax.zaxis.labelpad=n\n",
    "filename = '3D_Gaussian_print_19_9'\n",
    "saveplot()\n",
    "plt.show()\n",
    "\n",
    "\n",
    "fig = plt.figure(figsize=(10,10))\n",
    "ax = fig.add_subplot(111, projection='3d')\n",
    "ax.dist=12\n",
    "X, Y = np.meshgrid(np.arange(int(lens_three_data_y+1)),np.arange(int(lens_three_data_x+1)))\n",
    "ax.plot_surface(X, Y, container3, cmap= colour, edgecolors='black')\n",
    "ax.set_xlim(0, int(lens_three_data_y))\n",
    "ax.set_ylim(0, int(lens_three_data_x))\n",
    "ax.set_xlabel('x-axis beam width (um)')\n",
    "ax.set_ylabel('y-axis beam height (um)')\n",
    "ax.set_zlabel('Probability Density')\n",
    "ax.tick_params('both', labelsize=13)\n",
    "ax.yaxis.labelpad=n\n",
    "ax.xaxis.labelpad=n\n",
    "ax.zaxis.labelpad=n\n",
    "filename = '3D_Gaussian_print_35_0'\n",
    "saveplot()\n",
    "plt.show()"
   ]
  },
  {
   "cell_type": "markdown",
   "id": "3264fb2d-41c7-4560-a11c-224a93051356",
   "metadata": {},
   "source": [
    "=============================================================================\n",
    "#### END OF SCRIPT\n",
    "============================================================================="
   ]
  }
 ],
 "metadata": {
  "kernelspec": {
   "display_name": "Python 3 (ipykernel)",
   "language": "python",
   "name": "python3"
  },
  "language_info": {
   "codemirror_mode": {
    "name": "ipython",
    "version": 3
   },
   "file_extension": ".py",
   "mimetype": "text/x-python",
   "name": "python",
   "nbconvert_exporter": "python",
   "pygments_lexer": "ipython3",
   "version": "3.9.7"
  }
 },
 "nbformat": 4,
 "nbformat_minor": 5
}
